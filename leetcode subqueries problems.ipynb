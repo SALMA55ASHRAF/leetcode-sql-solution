{
 "cells": [
  {
   "cell_type": "markdown",
   "metadata": {},
   "source": [
    "# Question: 1978. Employees Whose Manager Left the Company\n",
    "\n",
    "**Description:**  \n",
    "We need to find the IDs of employees whose managers have left the company.  \n",
    "This means:\n",
    "- `manager_id` is **not null**.\n",
    "- `manager_id` does **not** exist in the `employee_id` column (manager is no longer in the company).\n",
    "- Employee's salary is **less than 30000**.\n",
    "- Results should be ordered by `employee_id` in ascending order.\n",
    "\n",
    "---\n",
    "\n",
    "**SQL Query:**\n",
    "```sql\n",
    "SELECT employee_id\n",
    "FROM employees\n",
    "WHERE manager_id NOT IN (\n",
    "    SELECT employee_id\n",
    "    FROM employees\n",
    ")\n",
    "AND salary < 30000\n",
    "AND manager_id IS NOT NULL\n",
    "ORDER BY employee_id ASC;\n"
   ]
  },
  {
   "cell_type": "markdown",
   "metadata": {},
   "source": [
    "![](firstsubquery.png)"
   ]
  },
  {
   "cell_type": "markdown",
   "metadata": {},
   "source": [
    "# Question:  Exchange Seats\n",
    "\n",
    "**Description:**  \n",
    "We need to rearrange students' seats according to the following rules:\n",
    "- Swap seats for every two consecutive students.\n",
    "- If the number of students is odd, the last student keeps their original seat.\n",
    "\n",
    "**Logic:**\n",
    "- If `id` is the maximum `id` and odd → keep the same `id`.\n",
    "- If `id` is even → subtract 1 (move to the previous seat).\n",
    "- If `id` is odd and not the maximum `id` → add 1 (move to the next seat).\n",
    "\n",
    "---\n",
    "\n",
    "**SQL Query:**\n",
    "```sql\n",
    "SELECT\n",
    "    CASE \n",
    "        WHEN id = (SELECT MAX(id) FROM seat) AND id % 2 != 0 THEN id\n",
    "        WHEN id % 2 = 0 THEN id - 1\n",
    "        WHEN id != (SELECT MAX(id) FROM seat) \n",
    "             AND id IN (SELECT id FROM seat WHERE id % 2 != 0) THEN id + 1\n",
    "    END AS id,\n",
    "    student \n",
    "FROM seat \n",
    "ORDER BY id;\n"
   ]
  },
  {
   "cell_type": "markdown",
   "metadata": {},
   "source": [
    "![](ExchangeSeats.png)"
   ]
  },
  {
   "cell_type": "markdown",
   "metadata": {},
   "source": [
    "# Question: 1341. Movie Rating\n",
    "\n",
    "**Description:**  \n",
    "We need to return two results:\n",
    "1. **The name of the user** who has rated the most movies.  \n",
    "   - If there is a tie, choose the one with the lexicographically smaller name.\n",
    "2. **The title of the highest-rated movie** in February 2020.  \n",
    "   - If there is a tie, choose the one with the lexicographically smaller title.\n",
    "\n",
    "The two results should be combined vertically using `UNION ALL`.\n",
    "\n",
    "---\n",
    "\n",
    "**SQL Query:**\n",
    "```sql\n",
    "-- Part 1: User who rated the most movies\n",
    "(SELECT TOP 1 name AS results\n",
    " FROM users\n",
    " WHERE user_id IN (\n",
    "     SELECT TOP 1 users.user_id\n",
    "     FROM MovieRating\n",
    "     JOIN users \n",
    "         ON users.user_id = MovieRating.user_id\n",
    "     GROUP BY users.user_id, users.name\n",
    "     ORDER BY COUNT(MovieRating.user_id) DESC, users.name ASC\n",
    " ))\n",
    "\n",
    "UNION ALL\n",
    "\n",
    "-- Part 2: Highest-rated movie in February 2020\n",
    "(SELECT TOP 1 title\n",
    " FROM Movies\n",
    " WHERE movie_id IN (\n",
    "     SELECT TOP 1 movies.movie_id\n",
    "     FROM MovieRating\n",
    "     JOIN movies \n",
    "         ON movies.movie_id = MovieRating.movie_id\n",
    "     JOIN users \n",
    "         ON users.user_id = MovieRating.user_id\n",
    "     WHERE YEAR(MovieRating.created_at) = 2020 \n",
    "       AND MONTH(MovieRating.created_at) = 2\n",
    "     GROUP BY movies.movie_id, movies.title\n",
    "     ORDER BY AVG(MovieRating.rating * 1.00) DESC, movies.title ASC\n",
    " ));\n"
   ]
  },
  {
   "cell_type": "markdown",
   "metadata": {},
   "source": [
    "![](MovieRating.png)"
   ]
  },
  {
   "cell_type": "markdown",
   "metadata": {},
   "source": []
  }
 ],
 "metadata": {
  "kernelspec": {
   "display_name": "Python 3",
   "language": "python",
   "name": "python3"
  },
  "language_info": {
   "name": "python",
   "version": "3.9.0"
  }
 },
 "nbformat": 4,
 "nbformat_minor": 2
}
